{
 "cells": [
  {
   "cell_type": "markdown",
   "metadata": {},
   "source": [
    "# FabFit AltAir V3"
   ]
  },
  {
   "cell_type": "markdown",
   "metadata": {
    "tags": []
   },
   "source": [
    "## Imports"
   ]
  },
  {
   "cell_type": "code",
   "execution_count": 15,
   "metadata": {},
   "outputs": [],
   "source": [
    "import time\n",
    "import pandas as pd\n",
    "import altair as alt\n",
    "import pyodbc\n",
    "import ipywidgets as widgets\n",
    "from ipywidgets import IntProgress\n",
    "from IPython.display import display, clear_output\n",
    "from yaspin import yaspin, Spinner\n",
    "\n",
    "import warnings\n",
    "warnings.simplefilter(action='ignore', category=UserWarning)\n",
    "warnings.simplefilter(action='ignore', category=FutureWarning)"
   ]
  },
  {
   "cell_type": "markdown",
   "metadata": {
    "tags": []
   },
   "source": [
    "## Functions"
   ]
  },
  {
   "cell_type": "markdown",
   "metadata": {
    "tags": []
   },
   "source": [
    "### Database Functions"
   ]
  },
  {
   "cell_type": "code",
   "execution_count": 2,
   "metadata": {
    "tags": []
   },
   "outputs": [],
   "source": [
    "# Initiates DB connection - returns a \"conn\"\n",
    "def initiate_conn(id_sid):\n",
    "\n",
    "    # Initiate Connection to the db\n",
    "    conn = pyodbc.connect('Driver={SQL Server};'\n",
    "                          'Server=sql2557-fm1s-in.amr.corp.intel.com, 3181;'\n",
    "                          'Database=Fabfit_Prod;'\n",
    "                          'UID=' + id_sid + ';'\n",
    "                          'Trusted_Connection=yes;'\n",
    "                          )\n",
    "    return conn\n",
    "\n",
    "# Returns eoh, decom, shortage table\n",
    "def get_eds_rpt(conn, id_version):\n",
    "    sql = \"\"\"\\\n",
    "    EXEC lyt.pr_Report_Adj_CapPlan_EOH_Decommision_Shortage @VersionID = ?\n",
    "    \"\"\"\n",
    "    # test = cursor.execute(sql, params)\n",
    "    table_eoh_decom_short = pd.read_sql(sql, conn, params=[id_version])\n",
    "\n",
    "    return table_eoh_decom_short\n",
    "\n",
    "# Returns wif allocation table\n",
    "def get_allocation(conn, id_version):\n",
    "    sql = \"\"\"\\\n",
    "    EXEC lyt.pr_Allocation_Get @VersionID = ?\n",
    "    \"\"\"\n",
    "    # test = cursor.execute(sql, params)\n",
    "    alloc_table = pd.read_sql(sql, conn, params=[id_version])\n",
    "\n",
    "    alloc_table = alloc_table[alloc_table.Element == \"WhatIf\"]\n",
    "    alloc_table = alloc_table.groupby(['Process']).sum().reset_index()\n",
    "\n",
    "    return alloc_table"
   ]
  },
  {
   "cell_type": "markdown",
   "metadata": {
    "tags": []
   },
   "source": [
    "### Formating Functions"
   ]
  },
  {
   "cell_type": "code",
   "execution_count": 3,
   "metadata": {},
   "outputs": [],
   "source": [
    "# Format date column\n",
    "def format_date(df):\n",
    "    # Add 15 to each date value\n",
    "    df[\"date\"] = df[\"date\"] + \"15\"\n",
    "\n",
    "    # Convert to datetime value\n",
    "    df[\"date\"] = pd.to_datetime(df[\"date\"])\n",
    "\n",
    "    # Set index to date\n",
    "    df = df.set_index(\"date\")\n",
    "\n",
    "    return df\n",
    "\n",
    "\n",
    "# Melt table\n",
    "def melt_table(table, id_vars, value_vars, value_name):\n",
    "    melted_table = table.melt(id_vars, var_name=value_vars, value_name=value_name).reset_index(drop=True)\n",
    "    return melted_table\n",
    "\n",
    "\n",
    "# Filter alloc report\n",
    "def format_alloc_report(table_alloc, proc_list):\n",
    "    # Filter usign the proc_list\n",
    "    table_alloc = table_alloc[table_alloc[\"Process\"].isin(proc_list)]\n",
    "    return table_alloc\n",
    "\n",
    "\n",
    "def format_eds_report(table_eds, proc_list):\n",
    "    # Filter usign the proc_list\n",
    "    table_eds = table_eds[table_eds[\"Process\"].isin(proc_list)]\n",
    "\n",
    "    # Filter \"ToolType\"\n",
    "    table_eds = table_eds[table_eds[\"ToolType\"] == \"USC Tool\"].fillna(0)\n",
    "\n",
    "    return table_eds\n",
    "\n"
   ]
  },
  {
   "cell_type": "markdown",
   "metadata": {
    "tags": []
   },
   "source": [
    "### Make Functions"
   ]
  },
  {
   "cell_type": "code",
   "execution_count": 4,
   "metadata": {
    "tags": []
   },
   "outputs": [],
   "source": [
    "\n",
    "def get_source_data(version_id, cxn):\n",
    "    # Get EDS and Alloc report\n",
    "    eds_df = get_eds_rpt(cxn, version_id) # gets eoh, demo, shortage table\n",
    "    alloc_df = get_allocation(cxn, version_id) # gets wif allocation\n",
    "\n",
    "    return eds_df, alloc_df\n",
    "\n",
    "\n",
    "def make_eds_report(eds_df, process):\n",
    "    \n",
    "    eds_proc = format_eds_report(eds_df, process)\n",
    "\n",
    "    # Group By FA and sum\n",
    "    eds_proc = eds_proc.groupby(['Type', 'Process']).sum().reset_index()\n",
    "\n",
    "    eds_proc = melt_table(eds_proc, ['Process', 'Type'], 'date', 'tool_count')\n",
    "    eds_proc = pd.pivot_table(eds_proc, index=['date', 'Process'], columns='Type', values='tool_count').reset_index()\n",
    "    eds_proc = format_date(eds_proc)\n",
    "\n",
    "    return eds_proc\n",
    "\n",
    "\n",
    "def make_detailed_eds_report(eds_df, process):\n",
    "    \n",
    "    eds_proc = format_eds_report(eds_df, process)\n",
    "\n",
    "    # Group By FA and sum\n",
    "    eds_proc = eds_proc.groupby(['Type', 'Process', 'FuncArea']).sum().reset_index()\n",
    "    \n",
    "    eds_proc = melt_table(eds_proc, ['Process', 'Type', 'FuncArea'], 'date', 'tool_count')\n",
    "    # eds_proc = pd.pivot_table(eds_proc, index=['date', 'Process'], columns='Type', values='tool_count').reset_index()\n",
    "    eds_proc = format_date(eds_proc).reset_index()\n",
    "\n",
    "    return eds_proc\n",
    "\n",
    "\n",
    "def make_alloc_report(alloc_df, process):\n",
    "\n",
    "    alloc_proc = format_alloc_report(alloc_df, process)\n",
    "    alloc_proc = melt_table(alloc_proc, 'Process', 'date', 'wspw')\n",
    "    alloc_proc = format_date(alloc_proc)\n",
    "\n",
    "    return alloc_proc\n",
    "\n",
    "\n",
    "def make_full(alloc_proc, eds_proc, proc_list):\n",
    "\n",
    "    # Crosstab - Used, Short, Needed Bay Len Metrics\n",
    "    full_df = pd.concat([alloc_proc, eds_proc],axis=1, sort=False)\n",
    "    full_df.reset_index(inplace=True)\n",
    "    full_df.fillna(0, inplace=True)\n",
    "\n",
    "    # If shortage column exists get ratio and rate else fill ratio and rate with 0\n",
    "    if 'Shortage' not in full_df.columns:\n",
    "        full_df[\"Shortage\"] = 0\n",
    "\n",
    "    # Set ration, rate, and tool needed columns\n",
    "    full_df[\"ratio\"] = (full_df.Shortage / full_df.EOH) *100\n",
    "    full_df[\"rate\"] = full_df[\"Shortage\"] - full_df[\"Shortage\"].shift(1)\n",
    "    full_df[\"tools_needed\"] = full_df[\"EOH\"] + full_df[\"Shortage\"]\n",
    "\n",
    "    # Remove duplicated columns\n",
    "    full_df = full_df.loc[:,~full_df.columns.duplicated()]\n",
    "\n",
    "    # Filter df using the proc list\n",
    "    full_df = full_df[full_df[\"Process\"].isin(proc_list)]\n",
    "    return full_df\n",
    "\n"
   ]
  },
  {
   "cell_type": "markdown",
   "metadata": {
    "tags": []
   },
   "source": [
    "### Graphing Functions"
   ]
  },
  {
   "cell_type": "code",
   "execution_count": 5,
   "metadata": {
    "tags": []
   },
   "outputs": [],
   "source": [
    "def make_bar_graph(full_df, proc_list, version_id):\n",
    "\n",
    "    # Makes shortage bar graph for first item in the proc list\n",
    "    proc_num = proc_list[0]\n",
    "    full_df = full_df[full_df.Process == proc_num]\n",
    "\n",
    "    # Init graph object and set title\n",
    "    base = alt.Chart(full_df, title=\"v\" + str(version_id) + \"-\" + proc_num + \" ramp\").encode(\n",
    "        alt.X('yearmonth(date):O', axis=alt.Axis(title=None))\n",
    "    )\n",
    "\n",
    "    # Create color\n",
    "    color = 'steelblue' if proc_num == '1276' else 'purple'\n",
    "\n",
    "    # Create bar graph\n",
    "    bar = base.mark_bar(opacity=0.4).encode(\n",
    "        alt.Y(\"wspw:Q\",\n",
    "            axis=alt.Axis(title=proc_num + ' WSPW', titleColor=color),\n",
    "            scale=alt.Scale(domain=[0, 20000])),\n",
    "                color=alt.condition(\n",
    "            (alt.datum.rate > 0),  # If the year is 1810 this test returns True,\n",
    "            alt.value('red'),     # which sets the bar orange.\n",
    "            alt.value(color)   # And if it's not true it sets the bar steelblue.\n",
    "        )\n",
    "    )\n",
    "\n",
    "    # Create dots on graph\n",
    "    tick = base.mark_circle(\n",
    "        color='red',\n",
    "        size=40 * 0.9,  # controls width of tick.\n",
    "    ).transform_filter(alt.datum.rate > 0).encode(\n",
    "        alt.Y('Shortage',\n",
    "            axis=alt.Axis(title='Shortage Total', titleColor='red'))\n",
    "    )\n",
    "\n",
    "    # Combine the graph\n",
    "    my_graph = alt.layer(bar, tick).resolve_scale(\n",
    "        y = 'independent'\n",
    "    )\n",
    "\n",
    "    # Display the graph\n",
    "    my_graph.display()\n",
    "\n",
    "\n",
    "def make_area_graph(full_df, proc_list, version_id):\n",
    "\n",
    "    my_graph = alt.Chart(full_df).mark_area(opacity=0.6).encode(\n",
    "        x=\"yearmonth(date):O\",\n",
    "        y=\"wspw:Q\",\n",
    "        color=\"Process:N\",\n",
    "        order=alt.Order(\"Process:N\", sort='ascending')\n",
    "    ).properties(width=1000)\n",
    "    \n",
    "    my_graph.display()\n",
    "\n",
    "def make_line_graph(full_df, proc_list, version_id):\n",
    "\n",
    "    for proc_num in proc_list:\n",
    "        proc_df = full_df[full_df.Process == proc_num]\n",
    "\n",
    "        # Set title\n",
    "        title = f\"Tools Needed vs EOH: {proc_num} - v{version_id}\"\n",
    "\n",
    "        # Make line graph\n",
    "        my_graph = alt.Chart(proc_df, title=title).transform_fold(\n",
    "            ['EOH', 'tools_needed'],\n",
    "            as_=['type', 'num_tools']\n",
    "        ).mark_line(opacity=0.6).encode(\n",
    "            x=\"yearmonth(date):O\",\n",
    "            y=alt.Y(\"num_tools:Q\", stack=None),\n",
    "            color=\"type:N\"\n",
    "        ).properties(width=1000)\n",
    "\n",
    "        my_graph.display()\n",
    "\n",
    "def make_detailed_eds_graph(eds_df, proc_list, version_id):\n",
    "\n",
    "    unique_fa = list(eds_df.FuncArea.unique())\n",
    "\n",
    "    input_dropdown = alt.binding_select(options=unique_fa, name='FuncArea')\n",
    "    selection = alt.selection_single(fields=['FuncArea'], bind=input_dropdown)\n",
    "\n",
    "    for proc_num in proc_list:\n",
    "        proc_df = eds_df[eds_df.Process == proc_num]\n",
    "\n",
    "        # Set title\n",
    "        title = f\"Shortage: {proc_num} - v{version_id}\"\n",
    "\n",
    "        my_graph = alt.Chart(proc_df, title=title).mark_bar(opacity=0.6).encode(\n",
    "            x=\"yearmonth(date):O\",\n",
    "            y=alt.Y(\"sum(tool_count):Q\"),\n",
    "            color=\"FuncArea:N\",\n",
    "            tooltip=['tool_count']\n",
    "        ).interactive().properties(\n",
    "            width=1000\n",
    "        ).add_selection(\n",
    "            selection\n",
    "        ).transform_filter(\n",
    "            selection\n",
    "        )\n",
    "\n",
    "        my_graph.display()"
   ]
  },
  {
   "cell_type": "markdown",
   "metadata": {
    "tags": []
   },
   "source": [
    "### Analysis Functions"
   ]
  },
  {
   "cell_type": "code",
   "execution_count": 6,
   "metadata": {
    "tags": []
   },
   "outputs": [],
   "source": [
    "# Function decorator:\n",
    "@yaspin(text=\"Loading...\")\n",
    "def run_analysis(version_id, proc_list, cxn):\n",
    "    # Get data from db\n",
    "    eds_df, alloc_df = get_source_data(version_id, cxn) # same\n",
    "\n",
    "    # Returns formatted eds and alloc reports\n",
    "    eds_proc = make_eds_report(eds_df, proc_list)\n",
    "    alloc_proc = make_alloc_report(alloc_df, proc_list)\n",
    "\n",
    "    # Returns formatted eds and alloc reports\n",
    "    d_eds_proc = make_detailed_eds_report(eds_df, proc_list)\n",
    "    df_eds = fa_eds_report(d_eds_proc)\n",
    "\n",
    "    # Returns full_df\n",
    "    full_df = make_full(alloc_proc, eds_proc, proc_list)\n",
    "\n",
    "    summary_metrics = full_df.iloc[-len(proc_list):][[\"Process\",\"Shortage\", \"wspw\"]]\n",
    "    # print(f\"Version {version_id} Summary:\\n\", summary_metrics)\n",
    "    # print(\"\\n\\n\")\n",
    "    # print(f\"Version {version_id} Summary:\\n\")\n",
    "    display(f\"Version {version_id} Summary:\", summary_metrics.style.hide_index())\n",
    "    print(\"\\n\\n\")\n",
    "    \n",
    "\n",
    "    \n",
    "    # Makes graphs\n",
    "    make_area_graph(full_df, proc_list, version_id)\n",
    "    make_line_graph(full_df, proc_list, version_id)\n",
    "    make_detailed_eds_graph(df_eds, proc_list, version_id)\n",
    "\n",
    "def fa_eds_report(table_eds):\n",
    "    # Filter \"ToolType\"\n",
    "    table_eds = table_eds[table_eds[\"Type\"] == \"Shortage\"].fillna(0)\n",
    "    \n",
    "    # Group By FA and sum\n",
    "    table_eds = table_eds.groupby(['date','Type', 'Process', 'FuncArea']).tool_count.sum().reset_index()\n",
    "\n",
    "    return table_eds\n"
   ]
  },
  {
   "cell_type": "markdown",
   "metadata": {
    "tags": []
   },
   "source": [
    "## Visuals"
   ]
  },
  {
   "cell_type": "code",
   "execution_count": 7,
   "metadata": {
    "tags": []
   },
   "outputs": [],
   "source": [
    "idsid = widgets.Text(\n",
    "    # value='AMR\\idsid',\n",
    "    placeholder='AMR\\idsid',\n",
    "    description='String:',\n",
    "    disabled=False\n",
    ")\n",
    "\n",
    "version_id = widgets.IntText(\n",
    "    value=7,\n",
    "    description='VersionID:',\n",
    "    disabled=False\n",
    ")\n",
    "\n",
    "process_tuple = widgets.SelectMultiple(\n",
    "    options=[\"1270\", \"1272\", \"1274\", \"1276\", \"1278\", \"1280\"],\n",
    "    # value='macOS',\n",
    "    # rows=10,\n",
    "    description='Process:',\n",
    "    disabled=False\n",
    ")"
   ]
  },
  {
   "cell_type": "code",
   "execution_count": 8,
   "metadata": {
    "tags": []
   },
   "outputs": [
    {
     "data": {
      "application/vnd.jupyter.widget-view+json": {
       "model_id": "3966a653803746c690ecfad193e02f14",
       "version_major": 2,
       "version_minor": 0
      },
      "text/plain": [
       "Text(value='', description='String:', placeholder='AMR\\\\idsid')"
      ]
     },
     "metadata": {},
     "output_type": "display_data"
    },
    {
     "data": {
      "application/vnd.jupyter.widget-view+json": {
       "model_id": "2feaee01a8454dbdaede6f80de5d6dad",
       "version_major": 2,
       "version_minor": 0
      },
      "text/plain": [
       "IntText(value=7, description='VersionID:')"
      ]
     },
     "metadata": {},
     "output_type": "display_data"
    },
    {
     "data": {
      "application/vnd.jupyter.widget-view+json": {
       "model_id": "b0fe00f40e5d4bcf9e40486b3e4844d3",
       "version_major": 2,
       "version_minor": 0
      },
      "text/plain": [
       "SelectMultiple(description='Process:', options=('1270', '1272', '1274', '1276', '1278', '1280'), value=())"
      ]
     },
     "metadata": {},
     "output_type": "display_data"
    }
   ],
   "source": [
    "display(idsid, version_id, process_tuple)"
   ]
  },
  {
   "cell_type": "code",
   "execution_count": 17,
   "metadata": {},
   "outputs": [
    {
     "data": {
      "application/vnd.jupyter.widget-view+json": {
       "model_id": "281174077e634a7c9529769d2017f537",
       "version_major": 2,
       "version_minor": 0
      },
      "text/plain": [
       "Text(value='Ready')"
      ]
     },
     "metadata": {},
     "output_type": "display_data"
    },
    {
     "data": {
      "application/vnd.jupyter.widget-view+json": {
       "model_id": "65506c9125e1408ebad8dec5c8def9c2",
       "version_major": 2,
       "version_minor": 0
      },
      "text/plain": [
       "Button(description='Run Analysis', style=ButtonStyle())"
      ]
     },
     "metadata": {},
     "output_type": "display_data"
    },
    {
     "data": {
      "application/vnd.jupyter.widget-view+json": {
       "model_id": "ab07638f8f154fdca3455a7b7671d71e",
       "version_major": 2,
       "version_minor": 0
      },
      "text/plain": [
       "Output()"
      ]
     },
     "metadata": {},
     "output_type": "display_data"
    }
   ],
   "source": [
    "button = widgets.Button(description=\"Run Analysis\")\n",
    "output = widgets.Output()\n",
    "label = widgets.Text('Ready')\n",
    "display(label, button, output)\n",
    "\n",
    "# Compose new spinners with custom frame sequence and interval value\n",
    "sp = Spinner([\"😸\", \"😹\", \"😺\", \"😻\", \"😼\", \"😽\", \"😾\", \"😿\", \"🙀\"], 200)\n",
    "\n",
    "# def loop_vzn_list(cxn):\n",
    "#     label.value = 'Running...'\n",
    "#     # Loop thorugh vzn_list\n",
    "#     for item in vzn_list:\n",
    "#         v_id = item[0]\n",
    "#         proc_list = item[1]\n",
    "#         run_analysis(v_id, proc_list, cxn)\n",
    "        \n",
    "# # Context manager:\n",
    "# with yaspin().moon:\n",
    "# label.value = 'Ready...'\n",
    "\n",
    "\n",
    "# Function decorator:\n",
    "@yaspin(sp, text=\"Loading...\")\n",
    "def on_button_clicked(b):\n",
    "    with output:\n",
    "        # Cleaer cell output\n",
    "        clear_output()\n",
    "\n",
    "        # Creates a list of tuples\n",
    "        vzn_list = [(version_id.value, list(process_tuple.value))]\n",
    "        \n",
    "        # Get values\n",
    "        vzn_id = vzn_list[0][0]\n",
    "        proc_list = vzn_list[0][1]\n",
    "        print(\"\\n\\n\")\n",
    "        print(f\"The selected version is... {vzn_id} and process entered were {proc_list}\", \"\\n\\n\")\n",
    "\n",
    "        # Initiate DB connection\n",
    "        cxn = initiate_conn(idsid.value)\n",
    "        \n",
    "        run_analysis(vzn_id, proc_list, cxn)\n",
    "\n",
    "        # Call loop function\n",
    "        # loop_vzn_list(cxn)\n",
    "        \n",
    "        # Change label output\n",
    "        label.value = 'Done'\n",
    "\n",
    "\n",
    "button.on_click(on_button_clicked)"
   ]
  }
 ],
 "metadata": {
  "interpreter": {
   "hash": "c7035f6c374dc8600cc71560f03ea79ac04f20be8852e4a59bb115ebb430cbef"
  },
  "kernelspec": {
   "display_name": "Python 3 (ipykernel)",
   "language": "python",
   "name": "python3"
  },
  "language_info": {
   "codemirror_mode": {
    "name": "ipython",
    "version": 3
   },
   "file_extension": ".py",
   "mimetype": "text/x-python",
   "name": "python",
   "nbconvert_exporter": "python",
   "pygments_lexer": "ipython3",
   "version": "3.10.4"
  }
 },
 "nbformat": 4,
 "nbformat_minor": 4
}
